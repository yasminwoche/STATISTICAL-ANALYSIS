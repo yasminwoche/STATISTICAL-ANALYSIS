{
 "cells": [
  {
   "cell_type": "code",
   "execution_count": 2,
   "metadata": {},
   "outputs": [],
   "source": [
    "import pandas as pd \n",
    "import numpy as np\n",
    "import matplotlib.pyplot as plt\n",
    "import seaborn as sns"
   ]
  },
  {
   "cell_type": "code",
   "execution_count": 3,
   "metadata": {},
   "outputs": [],
   "source": [
    "df = pd.read_csv(\"yasdataset.csv\")"
   ]
  },
  {
   "cell_type": "code",
   "execution_count": 4,
   "metadata": {},
   "outputs": [
    {
     "data": {
      "text/html": [
       "<div>\n",
       "<style scoped>\n",
       "    .dataframe tbody tr th:only-of-type {\n",
       "        vertical-align: middle;\n",
       "    }\n",
       "\n",
       "    .dataframe tbody tr th {\n",
       "        vertical-align: top;\n",
       "    }\n",
       "\n",
       "    .dataframe thead th {\n",
       "        text-align: right;\n",
       "    }\n",
       "</style>\n",
       "<table border=\"1\" class=\"dataframe\">\n",
       "  <thead>\n",
       "    <tr style=\"text-align: right;\">\n",
       "      <th></th>\n",
       "      <th>ParticipantID</th>\n",
       "      <th>PHQ1</th>\n",
       "      <th>PHQ2</th>\n",
       "      <th>PHQ3</th>\n",
       "      <th>PHQ4</th>\n",
       "      <th>PHQ5</th>\n",
       "      <th>PHQ6</th>\n",
       "      <th>PHQ7</th>\n",
       "      <th>PHQ8</th>\n",
       "      <th>GAD1</th>\n",
       "      <th>...</th>\n",
       "      <th>MSSS8</th>\n",
       "      <th>MSSS9</th>\n",
       "      <th>MSSS10</th>\n",
       "      <th>MSSS11</th>\n",
       "      <th>MSSS12</th>\n",
       "      <th>Tribe</th>\n",
       "      <th>Gender</th>\n",
       "      <th>School</th>\n",
       "      <th>Age</th>\n",
       "      <th>School_Resources</th>\n",
       "    </tr>\n",
       "  </thead>\n",
       "  <tbody>\n",
       "    <tr>\n",
       "      <th>0</th>\n",
       "      <td>SR_001</td>\n",
       "      <td>3</td>\n",
       "      <td>0</td>\n",
       "      <td>2</td>\n",
       "      <td>1</td>\n",
       "      <td>1</td>\n",
       "      <td>1</td>\n",
       "      <td>3</td>\n",
       "      <td>1</td>\n",
       "      <td>1</td>\n",
       "      <td>...</td>\n",
       "      <td>7</td>\n",
       "      <td>6</td>\n",
       "      <td>7</td>\n",
       "      <td>6</td>\n",
       "      <td>6</td>\n",
       "      <td>Minority</td>\n",
       "      <td>M</td>\n",
       "      <td>Starays</td>\n",
       "      <td>18.0</td>\n",
       "      <td>Poor</td>\n",
       "    </tr>\n",
       "    <tr>\n",
       "      <th>1</th>\n",
       "      <td>SR_002</td>\n",
       "      <td>3</td>\n",
       "      <td>0</td>\n",
       "      <td>1</td>\n",
       "      <td>0</td>\n",
       "      <td>0</td>\n",
       "      <td>1</td>\n",
       "      <td>2</td>\n",
       "      <td>2</td>\n",
       "      <td>0</td>\n",
       "      <td>...</td>\n",
       "      <td>7</td>\n",
       "      <td>5</td>\n",
       "      <td>7</td>\n",
       "      <td>3</td>\n",
       "      <td>6</td>\n",
       "      <td>Minority</td>\n",
       "      <td>M</td>\n",
       "      <td>Starays</td>\n",
       "      <td>16.0</td>\n",
       "      <td>Poor</td>\n",
       "    </tr>\n",
       "    <tr>\n",
       "      <th>2</th>\n",
       "      <td>SR_003</td>\n",
       "      <td>2</td>\n",
       "      <td>3</td>\n",
       "      <td>0</td>\n",
       "      <td>1</td>\n",
       "      <td>2</td>\n",
       "      <td>3</td>\n",
       "      <td>1</td>\n",
       "      <td>2</td>\n",
       "      <td>0</td>\n",
       "      <td>...</td>\n",
       "      <td>5</td>\n",
       "      <td>2</td>\n",
       "      <td>2</td>\n",
       "      <td>5</td>\n",
       "      <td>5</td>\n",
       "      <td>Minority</td>\n",
       "      <td>F</td>\n",
       "      <td>Starays</td>\n",
       "      <td>14.0</td>\n",
       "      <td>Poor</td>\n",
       "    </tr>\n",
       "    <tr>\n",
       "      <th>3</th>\n",
       "      <td>SR_004</td>\n",
       "      <td>1</td>\n",
       "      <td>3</td>\n",
       "      <td>1</td>\n",
       "      <td>1</td>\n",
       "      <td>2</td>\n",
       "      <td>1</td>\n",
       "      <td>3</td>\n",
       "      <td>1</td>\n",
       "      <td>3</td>\n",
       "      <td>...</td>\n",
       "      <td>4</td>\n",
       "      <td>4</td>\n",
       "      <td>5</td>\n",
       "      <td>4</td>\n",
       "      <td>3</td>\n",
       "      <td>Minority</td>\n",
       "      <td>M</td>\n",
       "      <td>Starays</td>\n",
       "      <td>20.0</td>\n",
       "      <td>Poor</td>\n",
       "    </tr>\n",
       "    <tr>\n",
       "      <th>4</th>\n",
       "      <td>SR_005</td>\n",
       "      <td>1</td>\n",
       "      <td>1</td>\n",
       "      <td>0</td>\n",
       "      <td>1</td>\n",
       "      <td>0</td>\n",
       "      <td>3</td>\n",
       "      <td>3</td>\n",
       "      <td>0</td>\n",
       "      <td>1</td>\n",
       "      <td>...</td>\n",
       "      <td>6</td>\n",
       "      <td>6</td>\n",
       "      <td>2</td>\n",
       "      <td>6</td>\n",
       "      <td>2</td>\n",
       "      <td>Minority</td>\n",
       "      <td>M</td>\n",
       "      <td>Starays</td>\n",
       "      <td>18.0</td>\n",
       "      <td>Poor</td>\n",
       "    </tr>\n",
       "  </tbody>\n",
       "</table>\n",
       "<p>5 rows × 33 columns</p>\n",
       "</div>"
      ],
      "text/plain": [
       "  ParticipantID  PHQ1  PHQ2  PHQ3  PHQ4  PHQ5  PHQ6  PHQ7  PHQ8  GAD1  ...  \\\n",
       "0        SR_001     3     0     2     1     1     1     3     1     1  ...   \n",
       "1        SR_002     3     0     1     0     0     1     2     2     0  ...   \n",
       "2        SR_003     2     3     0     1     2     3     1     2     0  ...   \n",
       "3        SR_004     1     3     1     1     2     1     3     1     3  ...   \n",
       "4        SR_005     1     1     0     1     0     3     3     0     1  ...   \n",
       "\n",
       "   MSSS8  MSSS9  MSSS10  MSSS11  MSSS12     Tribe  Gender   School   Age  \\\n",
       "0      7      6       7       6       6  Minority       M  Starays  18.0   \n",
       "1      7      5       7       3       6  Minority       M  Starays  16.0   \n",
       "2      5      2       2       5       5  Minority       F  Starays  14.0   \n",
       "3      4      4       5       4       3  Minority       M  Starays  20.0   \n",
       "4      6      6       2       6       2  Minority       M  Starays  18.0   \n",
       "\n",
       "   School_Resources  \n",
       "0              Poor  \n",
       "1              Poor  \n",
       "2              Poor  \n",
       "3              Poor  \n",
       "4              Poor  \n",
       "\n",
       "[5 rows x 33 columns]"
      ]
     },
     "execution_count": 4,
     "metadata": {},
     "output_type": "execute_result"
    }
   ],
   "source": [
    "df.head()"
   ]
  },
  {
   "cell_type": "code",
   "execution_count": 28,
   "metadata": {},
   "outputs": [
    {
     "data": {
      "text/plain": [
       "Index(['ParticipantID', 'PHQ1', 'PHQ2', 'PHQ3', 'PHQ4', 'PHQ5', 'PHQ6', 'PHQ7',\n",
       "       'PHQ8', 'GAD1', 'GAD2', 'GAD3', 'GAD4', 'GAD5', 'GAD6', 'GAD7', 'MSSS1',\n",
       "       'MSSS2', 'MSSS3', 'MSSS4', 'MSSS5', 'MSSS6', 'MSSS7', 'MSSS8', 'MSSS9',\n",
       "       'MSSS10', 'MSSS11', 'MSSS12', 'Tribe', 'Gender', 'School', 'Age',\n",
       "       'School_Resources', 'PHQ Score', 'GAD Score', 'MSSS Score',\n",
       "       'depression level', 'anxiety level', 'support level'],\n",
       "      dtype='object')"
      ]
     },
     "execution_count": 28,
     "metadata": {},
     "output_type": "execute_result"
    }
   ],
   "source": [
    "df.columns"
   ]
  },
  {
   "cell_type": "code",
   "execution_count": 77,
   "metadata": {},
   "outputs": [
    {
     "data": {
      "text/plain": [
       "<matplotlib.axes._subplots.AxesSubplot at 0x7f998abcc850>"
      ]
     },
     "execution_count": 77,
     "metadata": {},
     "output_type": "execute_result"
    },
    {
     "data": {
      "image/png": "[encoded data removed]",
      "text/plain": [
       "<Figure size 432x288 with 1 Axes>"
      ]
     },
     "metadata": {
      "needs_background": "light"
     },
     "output_type": "display_data"
    }
   ],
   "source": [
    "#Viewing a histogram of the ages within the dataset \n",
    "df[\"Age\"].hist()"
   ]
  },
  {
   "cell_type": "code",
   "execution_count": 109,
   "metadata": {},
   "outputs": [
    {
     "data": {
      "text/plain": [
       "<matplotlib.axes._subplots.AxesSubplot at 0x7f998c304d90>"
      ]
     },
     "execution_count": 109,
     "metadata": {},
     "output_type": "execute_result"
    },
    {
     "data": {
      "image/png": "[encoded data removed]",
      "text/plain": [
       "<Figure size 432x288 with 1 Axes>"
      ]
     },
     "metadata": {
      "needs_background": "light"
     },
     "output_type": "display_data"
    }
   ],
   "source": [
    "#Viewing the age distribution of the data \n",
    "df[\"Age\"].plot(kind=\"kde\")"
   ]
  },
  {
   "cell_type": "code",
   "execution_count": 80,
   "metadata": {},
   "outputs": [
    {
     "data": {
      "text/plain": [
       "<matplotlib.axes._subplots.AxesSubplot at 0x7f998a727160>"
      ]
     },
     "execution_count": 80,
     "metadata": {},
     "output_type": "execute_result"
    },
    {
     "data": {
      "image/png": "[encoded data removed]",
      "text/plain": [
       "<Figure size 432x288 with 1 Axes>"
      ]
     },
     "metadata": {
      "needs_background": "light"
     },
     "output_type": "display_data"
    }
   ],
   "source": [
    "#A boxplot showing the age ranges of the dataset \n",
    "df[\"Age\"].plot(kind= \"box\")"
   ]
  },
  {
   "cell_type": "code",
   "execution_count": 81,
   "metadata": {},
   "outputs": [],
   "source": [
    "dfoutliers = df.loc[df[\"Age\"] > 20]"
   ]
  },
  {
   "cell_type": "code",
   "execution_count": 82,
   "metadata": {},
   "outputs": [
    {
     "data": {
      "text/html": [
       "<div>\n",
       "<style scoped>\n",
       "    .dataframe tbody tr th:only-of-type {\n",
       "        vertical-align: middle;\n",
       "    }\n",
       "\n",
       "    .dataframe tbody tr th {\n",
       "        vertical-align: top;\n",
       "    }\n",
       "\n",
       "    .dataframe thead th {\n",
       "        text-align: right;\n",
       "    }\n",
       "</style>\n",
       "<table border=\"1\" class=\"dataframe\">\n",
       "  <thead>\n",
       "    <tr style=\"text-align: right;\">\n",
       "      <th></th>\n",
       "      <th>ParticipantID</th>\n",
       "      <th>PHQ1</th>\n",
       "      <th>PHQ2</th>\n",
       "      <th>PHQ3</th>\n",
       "      <th>PHQ4</th>\n",
       "      <th>PHQ5</th>\n",
       "      <th>PHQ6</th>\n",
       "      <th>PHQ7</th>\n",
       "      <th>PHQ8</th>\n",
       "      <th>GAD1</th>\n",
       "      <th>...</th>\n",
       "      <th>Gender</th>\n",
       "      <th>School</th>\n",
       "      <th>Age</th>\n",
       "      <th>School_Resources</th>\n",
       "      <th>PHQ Score</th>\n",
       "      <th>GAD Score</th>\n",
       "      <th>MSSS Score</th>\n",
       "      <th>depression level</th>\n",
       "      <th>anxiety level</th>\n",
       "      <th>support level</th>\n",
       "    </tr>\n",
       "  </thead>\n",
       "  <tbody>\n",
       "    <tr>\n",
       "      <th>32</th>\n",
       "      <td>SR_033</td>\n",
       "      <td>1</td>\n",
       "      <td>2</td>\n",
       "      <td>0</td>\n",
       "      <td>1</td>\n",
       "      <td>2</td>\n",
       "      <td>1</td>\n",
       "      <td>3</td>\n",
       "      <td>2</td>\n",
       "      <td>0</td>\n",
       "      <td>...</td>\n",
       "      <td>M</td>\n",
       "      <td>Starays</td>\n",
       "      <td>21.0</td>\n",
       "      <td>Poor</td>\n",
       "      <td>12</td>\n",
       "      <td>4</td>\n",
       "      <td>75</td>\n",
       "      <td>Moderately Severe</td>\n",
       "      <td>Moderately Severe</td>\n",
       "      <td>Strong Support</td>\n",
       "    </tr>\n",
       "    <tr>\n",
       "      <th>47</th>\n",
       "      <td>SR_048</td>\n",
       "      <td>3</td>\n",
       "      <td>3</td>\n",
       "      <td>3</td>\n",
       "      <td>3</td>\n",
       "      <td>3</td>\n",
       "      <td>3</td>\n",
       "      <td>3</td>\n",
       "      <td>3</td>\n",
       "      <td>3</td>\n",
       "      <td>...</td>\n",
       "      <td>F</td>\n",
       "      <td>Starays</td>\n",
       "      <td>22.0</td>\n",
       "      <td>Poor</td>\n",
       "      <td>24</td>\n",
       "      <td>20</td>\n",
       "      <td>59</td>\n",
       "      <td>NaN</td>\n",
       "      <td>NaN</td>\n",
       "      <td>Strong Support</td>\n",
       "    </tr>\n",
       "    <tr>\n",
       "      <th>331</th>\n",
       "      <td>AGHS_043</td>\n",
       "      <td>2</td>\n",
       "      <td>3</td>\n",
       "      <td>3</td>\n",
       "      <td>3</td>\n",
       "      <td>3</td>\n",
       "      <td>3</td>\n",
       "      <td>3</td>\n",
       "      <td>3</td>\n",
       "      <td>3</td>\n",
       "      <td>...</td>\n",
       "      <td>F</td>\n",
       "      <td>AGHS</td>\n",
       "      <td>25.0</td>\n",
       "      <td>Rich</td>\n",
       "      <td>23</td>\n",
       "      <td>21</td>\n",
       "      <td>23</td>\n",
       "      <td>NaN</td>\n",
       "      <td>NaN</td>\n",
       "      <td>Low Support</td>\n",
       "    </tr>\n",
       "    <tr>\n",
       "      <th>513</th>\n",
       "      <td>OLY_068</td>\n",
       "      <td>0</td>\n",
       "      <td>1</td>\n",
       "      <td>1</td>\n",
       "      <td>2</td>\n",
       "      <td>0</td>\n",
       "      <td>1</td>\n",
       "      <td>0</td>\n",
       "      <td>0</td>\n",
       "      <td>0</td>\n",
       "      <td>...</td>\n",
       "      <td>F</td>\n",
       "      <td>Olympic</td>\n",
       "      <td>20.5</td>\n",
       "      <td>Medium</td>\n",
       "      <td>5</td>\n",
       "      <td>2</td>\n",
       "      <td>47</td>\n",
       "      <td>Mild</td>\n",
       "      <td>Mild</td>\n",
       "      <td>Moderate Support</td>\n",
       "    </tr>\n",
       "    <tr>\n",
       "      <th>623</th>\n",
       "      <td>OLY_178</td>\n",
       "      <td>1</td>\n",
       "      <td>1</td>\n",
       "      <td>1</td>\n",
       "      <td>1</td>\n",
       "      <td>1</td>\n",
       "      <td>1</td>\n",
       "      <td>1</td>\n",
       "      <td>1</td>\n",
       "      <td>1</td>\n",
       "      <td>...</td>\n",
       "      <td>M</td>\n",
       "      <td>Olympic</td>\n",
       "      <td>23.0</td>\n",
       "      <td>Medium</td>\n",
       "      <td>8</td>\n",
       "      <td>7</td>\n",
       "      <td>53</td>\n",
       "      <td>Moderate</td>\n",
       "      <td>Moderate</td>\n",
       "      <td>Moderate Support</td>\n",
       "    </tr>\n",
       "  </tbody>\n",
       "</table>\n",
       "<p>5 rows × 39 columns</p>\n",
       "</div>"
      ],
      "text/plain": [
       "    ParticipantID  PHQ1  PHQ2  PHQ3  PHQ4  PHQ5  PHQ6  PHQ7  PHQ8  GAD1  ...  \\\n",
       "32         SR_033     1     2     0     1     2     1     3     2     0  ...   \n",
       "47         SR_048     3     3     3     3     3     3     3     3     3  ...   \n",
       "331      AGHS_043     2     3     3     3     3     3     3     3     3  ...   \n",
       "513       OLY_068     0     1     1     2     0     1     0     0     0  ...   \n",
       "623       OLY_178     1     1     1     1     1     1     1     1     1  ...   \n",
       "\n",
       "     Gender   School   Age  School_Resources  PHQ Score  GAD Score  \\\n",
       "32        M  Starays  21.0              Poor         12          4   \n",
       "47        F  Starays  22.0              Poor         24         20   \n",
       "331       F     AGHS  25.0              Rich         23         21   \n",
       "513       F  Olympic  20.5            Medium          5          2   \n",
       "623       M  Olympic  23.0            Medium          8          7   \n",
       "\n",
       "     MSSS Score   depression level      anxiety level     support level  \n",
       "32           75  Moderately Severe  Moderately Severe    Strong Support  \n",
       "47           59                NaN                NaN    Strong Support  \n",
       "331          23                NaN                NaN       Low Support  \n",
       "513          47               Mild               Mild  Moderate Support  \n",
       "623          53           Moderate           Moderate  Moderate Support  \n",
       "\n",
       "[5 rows x 39 columns]"
      ]
     },
     "execution_count": 82,
     "metadata": {},
     "output_type": "execute_result"
    }
   ],
   "source": [
    "#Viewing the outliers within the dataset\n",
    "dfoutliers.head()"
   ]
  },
  {
   "cell_type": "code",
   "execution_count": 83,
   "metadata": {},
   "outputs": [
    {
     "data": {
      "text/plain": [
       "(5, 39)"
      ]
     },
     "execution_count": 83,
     "metadata": {},
     "output_type": "execute_result"
    }
   ],
   "source": [
    "dfoutliers.shape"
   ]
  },
  {
   "cell_type": "code",
   "execution_count": 5,
   "metadata": {},
   "outputs": [],
   "source": [
    "#Calculating the PHQ Score for each individual in the data set \n",
    "df[\"PHQ Score\"]= df[\"PHQ1\"] + df[\"PHQ2\"]+ df[\"PHQ3\"] + df[\"PHQ4\"]+ df[\"PHQ5\"]+ df[\"PHQ6\"] + df[\"PHQ7\"] + df[\"PHQ8\"]"
   ]
  },
  {
   "cell_type": "code",
   "execution_count": 7,
   "metadata": {},
   "outputs": [
    {
     "data": {
      "text/plain": [
       "Index(['ParticipantID', 'PHQ1', 'PHQ2', 'PHQ3', 'PHQ4', 'PHQ5', 'PHQ6', 'PHQ7',\n",
       "       'PHQ8', 'GAD1', 'GAD2', 'GAD3', 'GAD4', 'GAD5', 'GAD6', 'GAD7', 'MSSS1',\n",
       "       'MSSS2', 'MSSS3', 'MSSS4', 'MSSS5', 'MSSS6', 'MSSS7', 'MSSS8', 'MSSS9',\n",
       "       'MSSS10', 'MSSS11', 'MSSS12', 'Tribe', 'Gender', 'School', 'Age',\n",
       "       'School_Resources', 'PHQ Score'],\n",
       "      dtype='object')"
      ]
     },
     "execution_count": 7,
     "metadata": {},
     "output_type": "execute_result"
    }
   ],
   "source": [
    "df.columns"
   ]
  },
  {
   "cell_type": "code",
   "execution_count": 8,
   "metadata": {},
   "outputs": [
    {
     "data": {
      "text/html": [
       "<div>\n",
       "<style scoped>\n",
       "    .dataframe tbody tr th:only-of-type {\n",
       "        vertical-align: middle;\n",
       "    }\n",
       "\n",
       "    .dataframe tbody tr th {\n",
       "        vertical-align: top;\n",
       "    }\n",
       "\n",
       "    .dataframe thead th {\n",
       "        text-align: right;\n",
       "    }\n",
       "</style>\n",
       "<table border=\"1\" class=\"dataframe\">\n",
       "  <thead>\n",
       "    <tr style=\"text-align: right;\">\n",
       "      <th></th>\n",
       "      <th>ParticipantID</th>\n",
       "      <th>PHQ1</th>\n",
       "      <th>PHQ2</th>\n",
       "      <th>PHQ3</th>\n",
       "      <th>PHQ4</th>\n",
       "      <th>PHQ5</th>\n",
       "      <th>PHQ6</th>\n",
       "      <th>PHQ7</th>\n",
       "      <th>PHQ8</th>\n",
       "      <th>GAD1</th>\n",
       "      <th>...</th>\n",
       "      <th>MSSS10</th>\n",
       "      <th>MSSS11</th>\n",
       "      <th>MSSS12</th>\n",
       "      <th>Tribe</th>\n",
       "      <th>Gender</th>\n",
       "      <th>School</th>\n",
       "      <th>Age</th>\n",
       "      <th>School_Resources</th>\n",
       "      <th>PHQ Score</th>\n",
       "      <th>GAD Score</th>\n",
       "    </tr>\n",
       "  </thead>\n",
       "  <tbody>\n",
       "    <tr>\n",
       "      <th>0</th>\n",
       "      <td>SR_001</td>\n",
       "      <td>3</td>\n",
       "      <td>0</td>\n",
       "      <td>2</td>\n",
       "      <td>1</td>\n",
       "      <td>1</td>\n",
       "      <td>1</td>\n",
       "      <td>3</td>\n",
       "      <td>1</td>\n",
       "      <td>1</td>\n",
       "      <td>...</td>\n",
       "      <td>7</td>\n",
       "      <td>6</td>\n",
       "      <td>6</td>\n",
       "      <td>Minority</td>\n",
       "      <td>M</td>\n",
       "      <td>Starays</td>\n",
       "      <td>18.0</td>\n",
       "      <td>Poor</td>\n",
       "      <td>12</td>\n",
       "      <td>13</td>\n",
       "    </tr>\n",
       "    <tr>\n",
       "      <th>1</th>\n",
       "      <td>SR_002</td>\n",
       "      <td>3</td>\n",
       "      <td>0</td>\n",
       "      <td>1</td>\n",
       "      <td>0</td>\n",
       "      <td>0</td>\n",
       "      <td>1</td>\n",
       "      <td>2</td>\n",
       "      <td>2</td>\n",
       "      <td>0</td>\n",
       "      <td>...</td>\n",
       "      <td>7</td>\n",
       "      <td>3</td>\n",
       "      <td>6</td>\n",
       "      <td>Minority</td>\n",
       "      <td>M</td>\n",
       "      <td>Starays</td>\n",
       "      <td>16.0</td>\n",
       "      <td>Poor</td>\n",
       "      <td>9</td>\n",
       "      <td>2</td>\n",
       "    </tr>\n",
       "    <tr>\n",
       "      <th>2</th>\n",
       "      <td>SR_003</td>\n",
       "      <td>2</td>\n",
       "      <td>3</td>\n",
       "      <td>0</td>\n",
       "      <td>1</td>\n",
       "      <td>2</td>\n",
       "      <td>3</td>\n",
       "      <td>1</td>\n",
       "      <td>2</td>\n",
       "      <td>0</td>\n",
       "      <td>...</td>\n",
       "      <td>2</td>\n",
       "      <td>5</td>\n",
       "      <td>5</td>\n",
       "      <td>Minority</td>\n",
       "      <td>F</td>\n",
       "      <td>Starays</td>\n",
       "      <td>14.0</td>\n",
       "      <td>Poor</td>\n",
       "      <td>14</td>\n",
       "      <td>10</td>\n",
       "    </tr>\n",
       "    <tr>\n",
       "      <th>3</th>\n",
       "      <td>SR_004</td>\n",
       "      <td>1</td>\n",
       "      <td>3</td>\n",
       "      <td>1</td>\n",
       "      <td>1</td>\n",
       "      <td>2</td>\n",
       "      <td>1</td>\n",
       "      <td>3</td>\n",
       "      <td>1</td>\n",
       "      <td>3</td>\n",
       "      <td>...</td>\n",
       "      <td>5</td>\n",
       "      <td>4</td>\n",
       "      <td>3</td>\n",
       "      <td>Minority</td>\n",
       "      <td>M</td>\n",
       "      <td>Starays</td>\n",
       "      <td>20.0</td>\n",
       "      <td>Poor</td>\n",
       "      <td>13</td>\n",
       "      <td>16</td>\n",
       "    </tr>\n",
       "    <tr>\n",
       "      <th>4</th>\n",
       "      <td>SR_005</td>\n",
       "      <td>1</td>\n",
       "      <td>1</td>\n",
       "      <td>0</td>\n",
       "      <td>1</td>\n",
       "      <td>0</td>\n",
       "      <td>3</td>\n",
       "      <td>3</td>\n",
       "      <td>0</td>\n",
       "      <td>1</td>\n",
       "      <td>...</td>\n",
       "      <td>2</td>\n",
       "      <td>6</td>\n",
       "      <td>2</td>\n",
       "      <td>Minority</td>\n",
       "      <td>M</td>\n",
       "      <td>Starays</td>\n",
       "      <td>18.0</td>\n",
       "      <td>Poor</td>\n",
       "      <td>9</td>\n",
       "      <td>9</td>\n",
       "    </tr>\n",
       "  </tbody>\n",
       "</table>\n",
       "<p>5 rows × 35 columns</p>\n",
       "</div>"
      ],
      "text/plain": [
       "  ParticipantID  PHQ1  PHQ2  PHQ3  PHQ4  PHQ5  PHQ6  PHQ7  PHQ8  GAD1  ...  \\\n",
       "0        SR_001     3     0     2     1     1     1     3     1     1  ...   \n",
       "1        SR_002     3     0     1     0     0     1     2     2     0  ...   \n",
       "2        SR_003     2     3     0     1     2     3     1     2     0  ...   \n",
       "3        SR_004     1     3     1     1     2     1     3     1     3  ...   \n",
       "4        SR_005     1     1     0     1     0     3     3     0     1  ...   \n",
       "\n",
       "   MSSS10  MSSS11  MSSS12     Tribe  Gender   School   Age  School_Resources  \\\n",
       "0       7       6       6  Minority       M  Starays  18.0              Poor   \n",
       "1       7       3       6  Minority       M  Starays  16.0              Poor   \n",
       "2       2       5       5  Minority       F  Starays  14.0              Poor   \n",
       "3       5       4       3  Minority       M  Starays  20.0              Poor   \n",
       "4       2       6       2  Minority       M  Starays  18.0              Poor   \n",
       "\n",
       "   PHQ Score  GAD Score  \n",
       "0         12         13  \n",
       "1          9          2  \n",
       "2         14         10  \n",
       "3         13         16  \n",
       "4          9          9  \n",
       "\n",
       "[5 rows x 35 columns]"
      ]
     },
     "execution_count": 8,
     "metadata": {},
     "output_type": "execute_result"
    }
   ],
   "source": [
    "#Calculating the GAD Score for each individual in the data set \n",
    "df[\"GAD Score\"]= (df[\"GAD1\"] + df[\"GAD2\"]+ df[\"GAD3\"] + df[\"GAD4\"]+ df[\"GAD5\"]+ df[\"GAD6\"] + df[\"GAD7\"] )\n",
    "\n",
    "df.head()"
   ]
  },
  {
   "cell_type": "code",
   "execution_count": 9,
   "metadata": {},
   "outputs": [
    {
     "data": {
      "text/html": [
       "<div>\n",
       "<style scoped>\n",
       "    .dataframe tbody tr th:only-of-type {\n",
       "        vertical-align: middle;\n",
       "    }\n",
       "\n",
       "    .dataframe tbody tr th {\n",
       "        vertical-align: top;\n",
       "    }\n",
       "\n",
       "    .dataframe thead th {\n",
       "        text-align: right;\n",
       "    }\n",
       "</style>\n",
       "<table border=\"1\" class=\"dataframe\">\n",
       "  <thead>\n",
       "    <tr style=\"text-align: right;\">\n",
       "      <th></th>\n",
       "      <th>ParticipantID</th>\n",
       "      <th>PHQ1</th>\n",
       "      <th>PHQ2</th>\n",
       "      <th>PHQ3</th>\n",
       "      <th>PHQ4</th>\n",
       "      <th>PHQ5</th>\n",
       "      <th>PHQ6</th>\n",
       "      <th>PHQ7</th>\n",
       "      <th>PHQ8</th>\n",
       "      <th>GAD1</th>\n",
       "      <th>...</th>\n",
       "      <th>MSSS11</th>\n",
       "      <th>MSSS12</th>\n",
       "      <th>Tribe</th>\n",
       "      <th>Gender</th>\n",
       "      <th>School</th>\n",
       "      <th>Age</th>\n",
       "      <th>School_Resources</th>\n",
       "      <th>PHQ Score</th>\n",
       "      <th>GAD Score</th>\n",
       "      <th>MSSS Score</th>\n",
       "    </tr>\n",
       "  </thead>\n",
       "  <tbody>\n",
       "    <tr>\n",
       "      <th>0</th>\n",
       "      <td>SR_001</td>\n",
       "      <td>3</td>\n",
       "      <td>0</td>\n",
       "      <td>2</td>\n",
       "      <td>1</td>\n",
       "      <td>1</td>\n",
       "      <td>1</td>\n",
       "      <td>3</td>\n",
       "      <td>1</td>\n",
       "      <td>1</td>\n",
       "      <td>...</td>\n",
       "      <td>6</td>\n",
       "      <td>6</td>\n",
       "      <td>Minority</td>\n",
       "      <td>M</td>\n",
       "      <td>Starays</td>\n",
       "      <td>18.0</td>\n",
       "      <td>Poor</td>\n",
       "      <td>12</td>\n",
       "      <td>13</td>\n",
       "      <td>57</td>\n",
       "    </tr>\n",
       "    <tr>\n",
       "      <th>1</th>\n",
       "      <td>SR_002</td>\n",
       "      <td>3</td>\n",
       "      <td>0</td>\n",
       "      <td>1</td>\n",
       "      <td>0</td>\n",
       "      <td>0</td>\n",
       "      <td>1</td>\n",
       "      <td>2</td>\n",
       "      <td>2</td>\n",
       "      <td>0</td>\n",
       "      <td>...</td>\n",
       "      <td>3</td>\n",
       "      <td>6</td>\n",
       "      <td>Minority</td>\n",
       "      <td>M</td>\n",
       "      <td>Starays</td>\n",
       "      <td>16.0</td>\n",
       "      <td>Poor</td>\n",
       "      <td>9</td>\n",
       "      <td>2</td>\n",
       "      <td>54</td>\n",
       "    </tr>\n",
       "    <tr>\n",
       "      <th>2</th>\n",
       "      <td>SR_003</td>\n",
       "      <td>2</td>\n",
       "      <td>3</td>\n",
       "      <td>0</td>\n",
       "      <td>1</td>\n",
       "      <td>2</td>\n",
       "      <td>3</td>\n",
       "      <td>1</td>\n",
       "      <td>2</td>\n",
       "      <td>0</td>\n",
       "      <td>...</td>\n",
       "      <td>5</td>\n",
       "      <td>5</td>\n",
       "      <td>Minority</td>\n",
       "      <td>F</td>\n",
       "      <td>Starays</td>\n",
       "      <td>14.0</td>\n",
       "      <td>Poor</td>\n",
       "      <td>14</td>\n",
       "      <td>10</td>\n",
       "      <td>44</td>\n",
       "    </tr>\n",
       "    <tr>\n",
       "      <th>3</th>\n",
       "      <td>SR_004</td>\n",
       "      <td>1</td>\n",
       "      <td>3</td>\n",
       "      <td>1</td>\n",
       "      <td>1</td>\n",
       "      <td>2</td>\n",
       "      <td>1</td>\n",
       "      <td>3</td>\n",
       "      <td>1</td>\n",
       "      <td>3</td>\n",
       "      <td>...</td>\n",
       "      <td>4</td>\n",
       "      <td>3</td>\n",
       "      <td>Minority</td>\n",
       "      <td>M</td>\n",
       "      <td>Starays</td>\n",
       "      <td>20.0</td>\n",
       "      <td>Poor</td>\n",
       "      <td>13</td>\n",
       "      <td>16</td>\n",
       "      <td>49</td>\n",
       "    </tr>\n",
       "    <tr>\n",
       "      <th>4</th>\n",
       "      <td>SR_005</td>\n",
       "      <td>1</td>\n",
       "      <td>1</td>\n",
       "      <td>0</td>\n",
       "      <td>1</td>\n",
       "      <td>0</td>\n",
       "      <td>3</td>\n",
       "      <td>3</td>\n",
       "      <td>0</td>\n",
       "      <td>1</td>\n",
       "      <td>...</td>\n",
       "      <td>6</td>\n",
       "      <td>2</td>\n",
       "      <td>Minority</td>\n",
       "      <td>M</td>\n",
       "      <td>Starays</td>\n",
       "      <td>18.0</td>\n",
       "      <td>Poor</td>\n",
       "      <td>9</td>\n",
       "      <td>9</td>\n",
       "      <td>56</td>\n",
       "    </tr>\n",
       "  </tbody>\n",
       "</table>\n",
       "<p>5 rows × 36 columns</p>\n",
       "</div>"
      ],
      "text/plain": [
       "  ParticipantID  PHQ1  PHQ2  PHQ3  PHQ4  PHQ5  PHQ6  PHQ7  PHQ8  GAD1  ...  \\\n",
       "0        SR_001     3     0     2     1     1     1     3     1     1  ...   \n",
       "1        SR_002     3     0     1     0     0     1     2     2     0  ...   \n",
       "2        SR_003     2     3     0     1     2     3     1     2     0  ...   \n",
       "3        SR_004     1     3     1     1     2     1     3     1     3  ...   \n",
       "4        SR_005     1     1     0     1     0     3     3     0     1  ...   \n",
       "\n",
       "   MSSS11  MSSS12     Tribe  Gender   School   Age  School_Resources  \\\n",
       "0       6       6  Minority       M  Starays  18.0              Poor   \n",
       "1       3       6  Minority       M  Starays  16.0              Poor   \n",
       "2       5       5  Minority       F  Starays  14.0              Poor   \n",
       "3       4       3  Minority       M  Starays  20.0              Poor   \n",
       "4       6       2  Minority       M  Starays  18.0              Poor   \n",
       "\n",
       "   PHQ Score  GAD Score  MSSS Score  \n",
       "0         12         13          57  \n",
       "1          9          2          54  \n",
       "2         14         10          44  \n",
       "3         13         16          49  \n",
       "4          9          9          56  \n",
       "\n",
       "[5 rows x 36 columns]"
      ]
     },
     "execution_count": 9,
     "metadata": {},
     "output_type": "execute_result"
    }
   ],
   "source": [
    "#Calculating the MSSS Score for each individual in the data set \n",
    "df[\"MSSS Score\"]= df[\"MSSS1\"] + df[\"MSSS2\"]+ df[\"MSSS3\"] + df[\"MSSS4\"]+ df[\"MSSS5\"]+ df[\"MSSS6\"] + df[\"MSSS7\"] + df[\"MSSS8\"] + df[\"MSSS9\"]+ df[\"MSSS10\"] + df[\"MSSS11\"]+ df[\"MSSS12\"] \n",
    "\n",
    "df.head()"
   ]
  },
  {
   "cell_type": "code",
   "execution_count": 119,
   "metadata": {},
   "outputs": [],
   "source": [
    "df.loc[df[\"PHQ Score\"] >= 5, 'depression level'] = \"Mild\"\n"
   ]
  },
  {
   "cell_type": "code",
   "execution_count": 121,
   "metadata": {},
   "outputs": [],
   "source": [
    "df.loc[(df[\"PHQ Score\"] > 5) & (df[\"PHQ Score\"] <=10), 'depression level'] = \"Moderate\"\n",
    "df.loc[(df[\"PHQ Score\"] >10)& (df[\"PHQ Score\"] <=15), 'depression level'] = \"Moderately Severe\"\n",
    "df.loc[(df[\"PHQ Score\"] >15) & (df[\"PHQ Score\"] <=20),'depression level'] = \"Severe\""
   ]
  },
  {
   "cell_type": "code",
   "execution_count": 122,
   "metadata": {},
   "outputs": [],
   "source": [
    "df.loc[df[\"GAD Score\"] >= 5, 'anxiety level'] = \"Mild\"\n",
    "df.loc[(df[\"GAD Score\"] >5)& (df[\"GAD Score\"] <=10), 'anxiety level'] = \"Moderately Severe\"\n",
    "df.loc[(df[\"GAD Score\"] >10) & (df[\"GAD Score\"] <=15),'anxiety level'] = \"Severe\""
   ]
  },
  {
   "cell_type": "code",
   "execution_count": 123,
   "metadata": {},
   "outputs": [],
   "source": [
    "df.loc[df[\"MSSS Score\"] >= 5, 'support level'] = \"Low Support\"\n",
    "df.loc[(df[\"MSSS Score\"] >5)& (df[\"MSSS Score\"] <=10), 'support level'] = \"Moderate Support\"\n",
    "df.loc[(df[\"MSSS Score\"] >10) & (df[\"MSSS Score\"] <=15),'support level'] = \"Strong Support\""
   ]
  },
  {
   "cell_type": "code",
   "execution_count": 11,
   "metadata": {},
   "outputs": [
    {
     "data": {
      "text/html": [
       "<div>\n",
       "<style scoped>\n",
       "    .dataframe tbody tr th:only-of-type {\n",
       "        vertical-align: middle;\n",
       "    }\n",
       "\n",
       "    .dataframe tbody tr th {\n",
       "        vertical-align: top;\n",
       "    }\n",
       "\n",
       "    .dataframe thead th {\n",
       "        text-align: right;\n",
       "    }\n",
       "</style>\n",
       "<table border=\"1\" class=\"dataframe\">\n",
       "  <thead>\n",
       "    <tr style=\"text-align: right;\">\n",
       "      <th></th>\n",
       "      <th>ParticipantID</th>\n",
       "      <th>PHQ1</th>\n",
       "      <th>PHQ2</th>\n",
       "      <th>PHQ3</th>\n",
       "      <th>PHQ4</th>\n",
       "      <th>PHQ5</th>\n",
       "      <th>PHQ6</th>\n",
       "      <th>PHQ7</th>\n",
       "      <th>PHQ8</th>\n",
       "      <th>GAD1</th>\n",
       "      <th>...</th>\n",
       "      <th>Gender</th>\n",
       "      <th>School</th>\n",
       "      <th>Age</th>\n",
       "      <th>School_Resources</th>\n",
       "      <th>PHQ Score</th>\n",
       "      <th>GAD Score</th>\n",
       "      <th>MSSS Score</th>\n",
       "      <th>depression level</th>\n",
       "      <th>anxiety level</th>\n",
       "      <th>support level</th>\n",
       "    </tr>\n",
       "  </thead>\n",
       "  <tbody>\n",
       "    <tr>\n",
       "      <th>0</th>\n",
       "      <td>SR_001</td>\n",
       "      <td>3</td>\n",
       "      <td>0</td>\n",
       "      <td>2</td>\n",
       "      <td>1</td>\n",
       "      <td>1</td>\n",
       "      <td>1</td>\n",
       "      <td>3</td>\n",
       "      <td>1</td>\n",
       "      <td>1</td>\n",
       "      <td>...</td>\n",
       "      <td>M</td>\n",
       "      <td>Starays</td>\n",
       "      <td>18.0</td>\n",
       "      <td>Poor</td>\n",
       "      <td>12</td>\n",
       "      <td>13</td>\n",
       "      <td>57</td>\n",
       "      <td>Moderately Severe</td>\n",
       "      <td>Moderately Severe</td>\n",
       "      <td>Strong Support</td>\n",
       "    </tr>\n",
       "    <tr>\n",
       "      <th>1</th>\n",
       "      <td>SR_002</td>\n",
       "      <td>3</td>\n",
       "      <td>0</td>\n",
       "      <td>1</td>\n",
       "      <td>0</td>\n",
       "      <td>0</td>\n",
       "      <td>1</td>\n",
       "      <td>2</td>\n",
       "      <td>2</td>\n",
       "      <td>0</td>\n",
       "      <td>...</td>\n",
       "      <td>M</td>\n",
       "      <td>Starays</td>\n",
       "      <td>16.0</td>\n",
       "      <td>Poor</td>\n",
       "      <td>9</td>\n",
       "      <td>2</td>\n",
       "      <td>54</td>\n",
       "      <td>Moderate</td>\n",
       "      <td>Moderate</td>\n",
       "      <td>Moderate Support</td>\n",
       "    </tr>\n",
       "    <tr>\n",
       "      <th>2</th>\n",
       "      <td>SR_003</td>\n",
       "      <td>2</td>\n",
       "      <td>3</td>\n",
       "      <td>0</td>\n",
       "      <td>1</td>\n",
       "      <td>2</td>\n",
       "      <td>3</td>\n",
       "      <td>1</td>\n",
       "      <td>2</td>\n",
       "      <td>0</td>\n",
       "      <td>...</td>\n",
       "      <td>F</td>\n",
       "      <td>Starays</td>\n",
       "      <td>14.0</td>\n",
       "      <td>Poor</td>\n",
       "      <td>14</td>\n",
       "      <td>10</td>\n",
       "      <td>44</td>\n",
       "      <td>Moderately Severe</td>\n",
       "      <td>Moderately Severe</td>\n",
       "      <td>Moderate Support</td>\n",
       "    </tr>\n",
       "    <tr>\n",
       "      <th>3</th>\n",
       "      <td>SR_004</td>\n",
       "      <td>1</td>\n",
       "      <td>3</td>\n",
       "      <td>1</td>\n",
       "      <td>1</td>\n",
       "      <td>2</td>\n",
       "      <td>1</td>\n",
       "      <td>3</td>\n",
       "      <td>1</td>\n",
       "      <td>3</td>\n",
       "      <td>...</td>\n",
       "      <td>M</td>\n",
       "      <td>Starays</td>\n",
       "      <td>20.0</td>\n",
       "      <td>Poor</td>\n",
       "      <td>13</td>\n",
       "      <td>16</td>\n",
       "      <td>49</td>\n",
       "      <td>Moderately Severe</td>\n",
       "      <td>Moderately Severe</td>\n",
       "      <td>Moderate Support</td>\n",
       "    </tr>\n",
       "    <tr>\n",
       "      <th>4</th>\n",
       "      <td>SR_005</td>\n",
       "      <td>1</td>\n",
       "      <td>1</td>\n",
       "      <td>0</td>\n",
       "      <td>1</td>\n",
       "      <td>0</td>\n",
       "      <td>3</td>\n",
       "      <td>3</td>\n",
       "      <td>0</td>\n",
       "      <td>1</td>\n",
       "      <td>...</td>\n",
       "      <td>M</td>\n",
       "      <td>Starays</td>\n",
       "      <td>18.0</td>\n",
       "      <td>Poor</td>\n",
       "      <td>9</td>\n",
       "      <td>9</td>\n",
       "      <td>56</td>\n",
       "      <td>Moderate</td>\n",
       "      <td>Moderate</td>\n",
       "      <td>Moderate Support</td>\n",
       "    </tr>\n",
       "  </tbody>\n",
       "</table>\n",
       "<p>5 rows × 39 columns</p>\n",
       "</div>"
      ],
      "text/plain": [
       "  ParticipantID  PHQ1  PHQ2  PHQ3  PHQ4  PHQ5  PHQ6  PHQ7  PHQ8  GAD1  ...  \\\n",
       "0        SR_001     3     0     2     1     1     1     3     1     1  ...   \n",
       "1        SR_002     3     0     1     0     0     1     2     2     0  ...   \n",
       "2        SR_003     2     3     0     1     2     3     1     2     0  ...   \n",
       "3        SR_004     1     3     1     1     2     1     3     1     3  ...   \n",
       "4        SR_005     1     1     0     1     0     3     3     0     1  ...   \n",
       "\n",
       "   Gender   School   Age  School_Resources  PHQ Score  GAD Score  MSSS Score  \\\n",
       "0       M  Starays  18.0              Poor         12         13          57   \n",
       "1       M  Starays  16.0              Poor          9          2          54   \n",
       "2       F  Starays  14.0              Poor         14         10          44   \n",
       "3       M  Starays  20.0              Poor         13         16          49   \n",
       "4       M  Starays  18.0              Poor          9          9          56   \n",
       "\n",
       "    depression level      anxiety level     support level  \n",
       "0  Moderately Severe  Moderately Severe    Strong Support  \n",
       "1           Moderate           Moderate  Moderate Support  \n",
       "2  Moderately Severe  Moderately Severe  Moderate Support  \n",
       "3  Moderately Severe  Moderately Severe  Moderate Support  \n",
       "4           Moderate           Moderate  Moderate Support  \n",
       "\n",
       "[5 rows x 39 columns]"
      ]
     },
     "execution_count": 11,
     "metadata": {},
     "output_type": "execute_result"
    }
   ],
   "source": [
    "df.head()"
   ]
  },
  {
   "cell_type": "code",
   "execution_count": 69,
   "metadata": {},
   "outputs": [],
   "source": [
    "dfMale = df.loc[df['Gender'] == \"M\"]"
   ]
  },
  {
   "cell_type": "code",
   "execution_count": 70,
   "metadata": {},
   "outputs": [
    {
     "data": {
      "text/html": [
       "<div>\n",
       "<style scoped>\n",
       "    .dataframe tbody tr th:only-of-type {\n",
       "        vertical-align: middle;\n",
       "    }\n",
       "\n",
       "    .dataframe tbody tr th {\n",
       "        vertical-align: top;\n",
       "    }\n",
       "\n",
       "    .dataframe thead th {\n",
       "        text-align: right;\n",
       "    }\n",
       "</style>\n",
       "<table border=\"1\" class=\"dataframe\">\n",
       "  <thead>\n",
       "    <tr style=\"text-align: right;\">\n",
       "      <th></th>\n",
       "      <th>ParticipantID</th>\n",
       "      <th>PHQ1</th>\n",
       "      <th>PHQ2</th>\n",
       "      <th>PHQ3</th>\n",
       "      <th>PHQ4</th>\n",
       "      <th>PHQ5</th>\n",
       "      <th>PHQ6</th>\n",
       "      <th>PHQ7</th>\n",
       "      <th>PHQ8</th>\n",
       "      <th>GAD1</th>\n",
       "      <th>...</th>\n",
       "      <th>Gender</th>\n",
       "      <th>School</th>\n",
       "      <th>Age</th>\n",
       "      <th>School_Resources</th>\n",
       "      <th>PHQ Score</th>\n",
       "      <th>GAD Score</th>\n",
       "      <th>MSSS Score</th>\n",
       "      <th>depression level</th>\n",
       "      <th>anxiety level</th>\n",
       "      <th>support level</th>\n",
       "    </tr>\n",
       "  </thead>\n",
       "  <tbody>\n",
       "    <tr>\n",
       "      <th>0</th>\n",
       "      <td>SR_001</td>\n",
       "      <td>3</td>\n",
       "      <td>0</td>\n",
       "      <td>2</td>\n",
       "      <td>1</td>\n",
       "      <td>1</td>\n",
       "      <td>1</td>\n",
       "      <td>3</td>\n",
       "      <td>1</td>\n",
       "      <td>1</td>\n",
       "      <td>...</td>\n",
       "      <td>M</td>\n",
       "      <td>Starays</td>\n",
       "      <td>18.0</td>\n",
       "      <td>Poor</td>\n",
       "      <td>12</td>\n",
       "      <td>13</td>\n",
       "      <td>57</td>\n",
       "      <td>Moderately Severe</td>\n",
       "      <td>Moderately Severe</td>\n",
       "      <td>Strong Support</td>\n",
       "    </tr>\n",
       "    <tr>\n",
       "      <th>1</th>\n",
       "      <td>SR_002</td>\n",
       "      <td>3</td>\n",
       "      <td>0</td>\n",
       "      <td>1</td>\n",
       "      <td>0</td>\n",
       "      <td>0</td>\n",
       "      <td>1</td>\n",
       "      <td>2</td>\n",
       "      <td>2</td>\n",
       "      <td>0</td>\n",
       "      <td>...</td>\n",
       "      <td>M</td>\n",
       "      <td>Starays</td>\n",
       "      <td>16.0</td>\n",
       "      <td>Poor</td>\n",
       "      <td>9</td>\n",
       "      <td>2</td>\n",
       "      <td>54</td>\n",
       "      <td>Moderate</td>\n",
       "      <td>Moderate</td>\n",
       "      <td>Moderate Support</td>\n",
       "    </tr>\n",
       "    <tr>\n",
       "      <th>3</th>\n",
       "      <td>SR_004</td>\n",
       "      <td>1</td>\n",
       "      <td>3</td>\n",
       "      <td>1</td>\n",
       "      <td>1</td>\n",
       "      <td>2</td>\n",
       "      <td>1</td>\n",
       "      <td>3</td>\n",
       "      <td>1</td>\n",
       "      <td>3</td>\n",
       "      <td>...</td>\n",
       "      <td>M</td>\n",
       "      <td>Starays</td>\n",
       "      <td>20.0</td>\n",
       "      <td>Poor</td>\n",
       "      <td>13</td>\n",
       "      <td>16</td>\n",
       "      <td>49</td>\n",
       "      <td>Moderately Severe</td>\n",
       "      <td>Moderately Severe</td>\n",
       "      <td>Moderate Support</td>\n",
       "    </tr>\n",
       "    <tr>\n",
       "      <th>4</th>\n",
       "      <td>SR_005</td>\n",
       "      <td>1</td>\n",
       "      <td>1</td>\n",
       "      <td>0</td>\n",
       "      <td>1</td>\n",
       "      <td>0</td>\n",
       "      <td>3</td>\n",
       "      <td>3</td>\n",
       "      <td>0</td>\n",
       "      <td>1</td>\n",
       "      <td>...</td>\n",
       "      <td>M</td>\n",
       "      <td>Starays</td>\n",
       "      <td>18.0</td>\n",
       "      <td>Poor</td>\n",
       "      <td>9</td>\n",
       "      <td>9</td>\n",
       "      <td>56</td>\n",
       "      <td>Moderate</td>\n",
       "      <td>Moderate</td>\n",
       "      <td>Moderate Support</td>\n",
       "    </tr>\n",
       "    <tr>\n",
       "      <th>7</th>\n",
       "      <td>SR_008</td>\n",
       "      <td>2</td>\n",
       "      <td>0</td>\n",
       "      <td>0</td>\n",
       "      <td>2</td>\n",
       "      <td>3</td>\n",
       "      <td>0</td>\n",
       "      <td>2</td>\n",
       "      <td>0</td>\n",
       "      <td>3</td>\n",
       "      <td>...</td>\n",
       "      <td>M</td>\n",
       "      <td>Starays</td>\n",
       "      <td>18.0</td>\n",
       "      <td>Poor</td>\n",
       "      <td>9</td>\n",
       "      <td>13</td>\n",
       "      <td>56</td>\n",
       "      <td>Moderate</td>\n",
       "      <td>Moderate</td>\n",
       "      <td>Moderate Support</td>\n",
       "    </tr>\n",
       "  </tbody>\n",
       "</table>\n",
       "<p>5 rows × 39 columns</p>\n",
       "</div>"
      ],
      "text/plain": [
       "  ParticipantID  PHQ1  PHQ2  PHQ3  PHQ4  PHQ5  PHQ6  PHQ7  PHQ8  GAD1  ...  \\\n",
       "0        SR_001     3     0     2     1     1     1     3     1     1  ...   \n",
       "1        SR_002     3     0     1     0     0     1     2     2     0  ...   \n",
       "3        SR_004     1     3     1     1     2     1     3     1     3  ...   \n",
       "4        SR_005     1     1     0     1     0     3     3     0     1  ...   \n",
       "7        SR_008     2     0     0     2     3     0     2     0     3  ...   \n",
       "\n",
       "   Gender   School   Age  School_Resources  PHQ Score  GAD Score  MSSS Score  \\\n",
       "0       M  Starays  18.0              Poor         12         13          57   \n",
       "1       M  Starays  16.0              Poor          9          2          54   \n",
       "3       M  Starays  20.0              Poor         13         16          49   \n",
       "4       M  Starays  18.0              Poor          9          9          56   \n",
       "7       M  Starays  18.0              Poor          9         13          56   \n",
       "\n",
       "    depression level      anxiety level     support level  \n",
       "0  Moderately Severe  Moderately Severe    Strong Support  \n",
       "1           Moderate           Moderate  Moderate Support  \n",
       "3  Moderately Severe  Moderately Severe  Moderate Support  \n",
       "4           Moderate           Moderate  Moderate Support  \n",
       "7           Moderate           Moderate  Moderate Support  \n",
       "\n",
       "[5 rows x 39 columns]"
      ]
     },
     "execution_count": 70,
     "metadata": {},
     "output_type": "execute_result"
    }
   ],
   "source": [
    "dfMale.head()"
   ]
  },
  {
   "cell_type": "code",
   "execution_count": 71,
   "metadata": {},
   "outputs": [],
   "source": [
    "maleGADMean = dfMale[\"GAD Score\"].mean()"
   ]
  },
  {
   "cell_type": "code",
   "execution_count": 72,
   "metadata": {},
   "outputs": [
    {
     "data": {
      "text/plain": [
       "7.565625"
      ]
     },
     "execution_count": 72,
     "metadata": {},
     "output_type": "execute_result"
    }
   ],
   "source": [
    "maleGADMean "
   ]
  },
  {
   "cell_type": "code",
   "execution_count": 73,
   "metadata": {},
   "outputs": [],
   "source": [
    " dfFemale = df.loc[df['Gender'] == \"F\"]"
   ]
  },
  {
   "cell_type": "code",
   "execution_count": 74,
   "metadata": {},
   "outputs": [
    {
     "data": {
      "text/html": [
       "<div>\n",
       "<style scoped>\n",
       "    .dataframe tbody tr th:only-of-type {\n",
       "        vertical-align: middle;\n",
       "    }\n",
       "\n",
       "    .dataframe tbody tr th {\n",
       "        vertical-align: top;\n",
       "    }\n",
       "\n",
       "    .dataframe thead th {\n",
       "        text-align: right;\n",
       "    }\n",
       "</style>\n",
       "<table border=\"1\" class=\"dataframe\">\n",
       "  <thead>\n",
       "    <tr style=\"text-align: right;\">\n",
       "      <th></th>\n",
       "      <th>ParticipantID</th>\n",
       "      <th>PHQ1</th>\n",
       "      <th>PHQ2</th>\n",
       "      <th>PHQ3</th>\n",
       "      <th>PHQ4</th>\n",
       "      <th>PHQ5</th>\n",
       "      <th>PHQ6</th>\n",
       "      <th>PHQ7</th>\n",
       "      <th>PHQ8</th>\n",
       "      <th>GAD1</th>\n",
       "      <th>...</th>\n",
       "      <th>Gender</th>\n",
       "      <th>School</th>\n",
       "      <th>Age</th>\n",
       "      <th>School_Resources</th>\n",
       "      <th>PHQ Score</th>\n",
       "      <th>GAD Score</th>\n",
       "      <th>MSSS Score</th>\n",
       "      <th>depression level</th>\n",
       "      <th>anxiety level</th>\n",
       "      <th>support level</th>\n",
       "    </tr>\n",
       "  </thead>\n",
       "  <tbody>\n",
       "    <tr>\n",
       "      <th>2</th>\n",
       "      <td>SR_003</td>\n",
       "      <td>2</td>\n",
       "      <td>3</td>\n",
       "      <td>0</td>\n",
       "      <td>1</td>\n",
       "      <td>2</td>\n",
       "      <td>3</td>\n",
       "      <td>1</td>\n",
       "      <td>2</td>\n",
       "      <td>0</td>\n",
       "      <td>...</td>\n",
       "      <td>F</td>\n",
       "      <td>Starays</td>\n",
       "      <td>14.0</td>\n",
       "      <td>Poor</td>\n",
       "      <td>14</td>\n",
       "      <td>10</td>\n",
       "      <td>44</td>\n",
       "      <td>Moderately Severe</td>\n",
       "      <td>Moderately Severe</td>\n",
       "      <td>Moderate Support</td>\n",
       "    </tr>\n",
       "    <tr>\n",
       "      <th>5</th>\n",
       "      <td>SR_006</td>\n",
       "      <td>0</td>\n",
       "      <td>2</td>\n",
       "      <td>0</td>\n",
       "      <td>2</td>\n",
       "      <td>0</td>\n",
       "      <td>0</td>\n",
       "      <td>2</td>\n",
       "      <td>0</td>\n",
       "      <td>2</td>\n",
       "      <td>...</td>\n",
       "      <td>F</td>\n",
       "      <td>Starays</td>\n",
       "      <td>16.0</td>\n",
       "      <td>Poor</td>\n",
       "      <td>6</td>\n",
       "      <td>8</td>\n",
       "      <td>70</td>\n",
       "      <td>Moderate</td>\n",
       "      <td>Moderate</td>\n",
       "      <td>Strong Support</td>\n",
       "    </tr>\n",
       "    <tr>\n",
       "      <th>6</th>\n",
       "      <td>SR_007</td>\n",
       "      <td>0</td>\n",
       "      <td>0</td>\n",
       "      <td>1</td>\n",
       "      <td>1</td>\n",
       "      <td>0</td>\n",
       "      <td>0</td>\n",
       "      <td>1</td>\n",
       "      <td>3</td>\n",
       "      <td>0</td>\n",
       "      <td>...</td>\n",
       "      <td>F</td>\n",
       "      <td>Starays</td>\n",
       "      <td>16.0</td>\n",
       "      <td>Poor</td>\n",
       "      <td>6</td>\n",
       "      <td>8</td>\n",
       "      <td>69</td>\n",
       "      <td>Moderate</td>\n",
       "      <td>Moderate</td>\n",
       "      <td>Strong Support</td>\n",
       "    </tr>\n",
       "    <tr>\n",
       "      <th>12</th>\n",
       "      <td>SR_013</td>\n",
       "      <td>2</td>\n",
       "      <td>1</td>\n",
       "      <td>0</td>\n",
       "      <td>0</td>\n",
       "      <td>1</td>\n",
       "      <td>3</td>\n",
       "      <td>1</td>\n",
       "      <td>1</td>\n",
       "      <td>2</td>\n",
       "      <td>...</td>\n",
       "      <td>F</td>\n",
       "      <td>Starays</td>\n",
       "      <td>15.0</td>\n",
       "      <td>Poor</td>\n",
       "      <td>9</td>\n",
       "      <td>9</td>\n",
       "      <td>52</td>\n",
       "      <td>Moderate</td>\n",
       "      <td>Moderate</td>\n",
       "      <td>Moderate Support</td>\n",
       "    </tr>\n",
       "    <tr>\n",
       "      <th>13</th>\n",
       "      <td>SR_014</td>\n",
       "      <td>2</td>\n",
       "      <td>1</td>\n",
       "      <td>3</td>\n",
       "      <td>2</td>\n",
       "      <td>0</td>\n",
       "      <td>3</td>\n",
       "      <td>1</td>\n",
       "      <td>0</td>\n",
       "      <td>3</td>\n",
       "      <td>...</td>\n",
       "      <td>F</td>\n",
       "      <td>Starays</td>\n",
       "      <td>16.0</td>\n",
       "      <td>Poor</td>\n",
       "      <td>12</td>\n",
       "      <td>13</td>\n",
       "      <td>62</td>\n",
       "      <td>Moderately Severe</td>\n",
       "      <td>Moderately Severe</td>\n",
       "      <td>Strong Support</td>\n",
       "    </tr>\n",
       "  </tbody>\n",
       "</table>\n",
       "<p>5 rows × 39 columns</p>\n",
       "</div>"
      ],
      "text/plain": [
       "   ParticipantID  PHQ1  PHQ2  PHQ3  PHQ4  PHQ5  PHQ6  PHQ7  PHQ8  GAD1  ...  \\\n",
       "2         SR_003     2     3     0     1     2     3     1     2     0  ...   \n",
       "5         SR_006     0     2     0     2     0     0     2     0     2  ...   \n",
       "6         SR_007     0     0     1     1     0     0     1     3     0  ...   \n",
       "12        SR_013     2     1     0     0     1     3     1     1     2  ...   \n",
       "13        SR_014     2     1     3     2     0     3     1     0     3  ...   \n",
       "\n",
       "    Gender   School   Age  School_Resources  PHQ Score  GAD Score  MSSS Score  \\\n",
       "2        F  Starays  14.0              Poor         14         10          44   \n",
       "5        F  Starays  16.0              Poor          6          8          70   \n",
       "6        F  Starays  16.0              Poor          6          8          69   \n",
       "12       F  Starays  15.0              Poor          9          9          52   \n",
       "13       F  Starays  16.0              Poor         12         13          62   \n",
       "\n",
       "     depression level      anxiety level     support level  \n",
       "2   Moderately Severe  Moderately Severe  Moderate Support  \n",
       "5            Moderate           Moderate    Strong Support  \n",
       "6            Moderate           Moderate    Strong Support  \n",
       "12           Moderate           Moderate  Moderate Support  \n",
       "13  Moderately Severe  Moderately Severe    Strong Support  \n",
       "\n",
       "[5 rows x 39 columns]"
      ]
     },
     "execution_count": 74,
     "metadata": {},
     "output_type": "execute_result"
    }
   ],
   "source": [
    "dfFemale.head()"
   ]
  },
  {
   "cell_type": "code",
   "execution_count": 75,
   "metadata": {},
   "outputs": [],
   "source": [
    "femaleGADMean = dfFemale[\"GAD Score\"].mean()"
   ]
  },
  {
   "cell_type": "code",
   "execution_count": 76,
   "metadata": {},
   "outputs": [
    {
     "data": {
      "text/plain": [
       "8.642011834319527"
      ]
     },
     "execution_count": 76,
     "metadata": {},
     "output_type": "execute_result"
    }
   ],
   "source": [
    "femaleGADMean"
   ]
  },
  {
   "cell_type": "code",
   "execution_count": 84,
   "metadata": {},
   "outputs": [],
   "source": [
    "femaleGADSTD =  dfFemale[\"GAD Score\"].std()"
   ]
  },
  {
   "cell_type": "code",
   "execution_count": 85,
   "metadata": {},
   "outputs": [
    {
     "data": {
      "text/plain": [
       "5.356624183825463"
      ]
     },
     "execution_count": 85,
     "metadata": {},
     "output_type": "execute_result"
    }
   ],
   "source": [
    "femaleGADSTD"
   ]
  },
  {
   "cell_type": "code",
   "execution_count": 86,
   "metadata": {},
   "outputs": [],
   "source": [
    "maleGADSTD = dfMale[\"GAD Score\"].std()"
   ]
  },
  {
   "cell_type": "code",
   "execution_count": 87,
   "metadata": {},
   "outputs": [
    {
     "data": {
      "text/plain": [
       "4.653721292170787"
      ]
     },
     "execution_count": 87,
     "metadata": {},
     "output_type": "execute_result"
    }
   ],
   "source": [
    "maleGADSTD"
   ]
  },
  {
   "cell_type": "code",
   "execution_count": 89,
   "metadata": {},
   "outputs": [
    {
     "data": {
      "text/plain": [
       "<matplotlib.axes._subplots.AxesSubplot at 0x7f998aea23d0>"
      ]
     },
     "execution_count": 89,
     "metadata": {},
     "output_type": "execute_result"
    },
    {
     "data": {
      "image/png": "[encoded data removed]",
      "text/plain": [
       "<Figure size 432x288 with 1 Axes>"
      ]
     },
     "metadata": {
      "needs_background": "light"
     },
     "output_type": "display_data"
    }
   ],
   "source": [
    "sns.lineplot(x=\"Age\",y=\"GAD Score\", data= df)"
   ]
  },
  {
   "cell_type": "code",
   "execution_count": 92,
   "metadata": {},
   "outputs": [],
   "source": [
    "df = df.loc[df[\"Age\"] < 20]"
   ]
  },
  {
   "cell_type": "code",
   "execution_count": 103,
   "metadata": {},
   "outputs": [],
   "source": [
    "dfFemale = dfFemale.loc[dfFemale[\"Age\"] < 19]"
   ]
  },
  {
   "cell_type": "code",
   "execution_count": 93,
   "metadata": {},
   "outputs": [
    {
     "data": {
      "text/plain": [
       "<matplotlib.axes._subplots.AxesSubplot at 0x7f998afe4d90>"
      ]
     },
     "execution_count": 93,
     "metadata": {},
     "output_type": "execute_result"
    },
    {
     "data": {
      "image/png": "[encoded data removed]",
      "text/plain": [
       "<Figure size 432x288 with 1 Axes>"
      ]
     },
     "metadata": {
      "needs_background": "light"
     },
     "output_type": "display_data"
    }
   ],
   "source": [
    "sns.lineplot(x=\"Age\",y=\"GAD Score\", data= df)"
   ]
  },
  {
   "cell_type": "code",
   "execution_count": 94,
   "metadata": {},
   "outputs": [
    {
     "data": {
      "text/plain": [
       "<matplotlib.axes._subplots.AxesSubplot at 0x7f998b1ad670>"
      ]
     },
     "execution_count": 94,
     "metadata": {},
     "output_type": "execute_result"
    },
    {
     "data": {
      "image/png": "[encoded data removed]",
      "text/plain": [
       "<Figure size 432x288 with 1 Axes>"
      ]
     },
     "metadata": {
      "needs_background": "light"
     },
     "output_type": "display_data"
    }
   ],
   "source": [
    "sns.lineplot(x=\"Age\",y=\"PHQ Score\", data= df)"
   ]
  },
  {
   "cell_type": "code",
   "execution_count": 95,
   "metadata": {},
   "outputs": [
    {
     "data": {
      "text/plain": [
       "<matplotlib.axes._subplots.AxesSubplot at 0x7f998b1ad2e0>"
      ]
     },
     "execution_count": 95,
     "metadata": {},
     "output_type": "execute_result"
    },
    {
     "data": {
      "image/png": "[encoded data removed]",
      "text/plain": [
       "<Figure size 432x288 with 1 Axes>"
      ]
     },
     "metadata": {
      "needs_background": "light"
     },
     "output_type": "display_data"
    }
   ],
   "source": [
    "sns.lineplot(x=\"Age\",y=\"MSSS Score\", data= df)"
   ]
  },
  {
   "cell_type": "code",
   "execution_count": 98,
   "metadata": {},
   "outputs": [
    {
     "data": {
      "text/plain": [
       "<matplotlib.axes._subplots.AxesSubplot at 0x7f998b364220>"
      ]
     },
     "execution_count": 98,
     "metadata": {},
     "output_type": "execute_result"
    },
    {
     "data": {
      "image/png": "[encoded data removed]",
      "text/plain": [
       "<Figure size 432x288 with 1 Axes>"
      ]
     },
     "metadata": {
      "needs_background": "light"
     },
     "output_type": "display_data"
    }
   ],
   "source": [
    "sns.lineplot(x=\"Age\",y=\"MSSS Score\", data= dfFemale)"
   ]
  },
  {
   "cell_type": "code",
   "execution_count": 100,
   "metadata": {},
   "outputs": [
    {
     "data": {
      "text/plain": [
       "<matplotlib.axes._subplots.AxesSubplot at 0x7f998b441b80>"
      ]
     },
     "execution_count": 100,
     "metadata": {},
     "output_type": "execute_result"
    },
    {
     "data": {
      "image/png": "[encoded data removed]",
      "text/plain": [
       "<Figure size 432x288 with 1 Axes>"
      ]
     },
     "metadata": {
      "needs_background": "light"
     },
     "output_type": "display_data"
    }
   ],
   "source": [
    "sns.lineplot(x=\"Age\",y=\"GAD Score\", data= dfFemale)"
   ]
  },
  {
   "cell_type": "code",
   "execution_count": 99,
   "metadata": {},
   "outputs": [
    {
     "data": {
      "text/plain": [
       "<matplotlib.axes._subplots.AxesSubplot at 0x7f998b0cf310>"
      ]
     },
     "execution_count": 99,
     "metadata": {},
     "output_type": "execute_result"
    },
    {
     "data": {
      "image/png": "[encoded data removed]",
      "text/plain": [
       "<Figure size 432x288 with 1 Axes>"
      ]
     },
     "metadata": {
      "needs_background": "light"
     },
     "output_type": "display_data"
    }
   ],
   "source": [
    "sns.lineplot(x=\"GAD Score\",y=\"MSSS Score\", data= dfFemale)"
   ]
  },
  {
   "cell_type": "code",
   "execution_count": 104,
   "metadata": {},
   "outputs": [
    {
     "data": {
      "text/plain": [
       "<matplotlib.axes._subplots.AxesSubplot at 0x7f998b28a880>"
      ]
     },
     "execution_count": 104,
     "metadata": {},
     "output_type": "execute_result"
    },
    {
     "data": {
      "image/png": "[encoded data removed]",
      "text/plain": [
       "<Figure size 432x288 with 1 Axes>"
      ]
     },
     "metadata": {
      "needs_background": "light"
     },
     "output_type": "display_data"
    }
   ],
   "source": [
    "sns.lineplot(x=\"PHQ Score\",y=\"MSSS Score\", data= dfFemale)"
   ]
  },
  {
   "cell_type": "markdown",
   "metadata": {},
   "source": [
    "# Age and Gender : Depression Level "
   ]
  },
  {
   "cell_type": "code",
   "execution_count": 12,
   "metadata": {},
   "outputs": [
    {
     "data": {
      "image/png": "[encoded data removed]",
      "text/plain": [
       "<Figure size 432x432 with 4 Axes>"
      ]
     },
     "metadata": {
      "needs_background": "light"
     },
     "output_type": "display_data"
    }
   ],
   "source": [
    "bins = np.linspace(df.Age.min(), df.Age.max(), 10)\n",
    "g = sns.FacetGrid(df, col=\"depression level\", hue=\"Gender\", palette=\"Set2\", col_wrap=2)\n",
    "g.map(plt.hist, 'Age', bins=bins, ec=\"k\")\n",
    "\n",
    "g.axes[-1].legend()\n",
    "plt.show()"
   ]
  },
  {
   "cell_type": "markdown",
   "metadata": {},
   "source": [
    "# Age and Gender : Anxiety Level "
   ]
  },
  {
   "cell_type": "code",
   "execution_count": 13,
   "metadata": {},
   "outputs": [
    {
     "data": {
      "image/png": "[encoded data removed]",
      "text/plain": [
       "<Figure size 432x432 with 3 Axes>"
      ]
     },
     "metadata": {
      "needs_background": "light"
     },
     "output_type": "display_data"
    }
   ],
   "source": [
    "bins = np.linspace(df.Age.min(), df.Age.max(), 10)\n",
    "g = sns.FacetGrid(df, col=\"anxiety level\", hue=\"Gender\", palette=\"Set2\", col_wrap=2)\n",
    "g.map(plt.hist, 'Age', bins=bins, ec=\"k\")\n",
    "\n",
    "g.axes[-1].legend()\n",
    "plt.show()"
   ]
  },
  {
   "cell_type": "markdown",
   "metadata": {},
   "source": [
    "# Age and Gender : Support Level "
   ]
  },
  {
   "cell_type": "code",
   "execution_count": 45,
   "metadata": {},
   "outputs": [
    {
     "data": {
      "image/png": "[encoded data removed]",
      "text/plain": [
       "<Figure size 432x432 with 3 Axes>"
      ]
     },
     "metadata": {
      "needs_background": "light"
     },
     "output_type": "display_data"
    }
   ],
   "source": [
    "bins = np.linspace(df.Age.min(), df.Age.max(), 10)\n",
    "g = sns.FacetGrid(df, col=\"support level\", hue=\"Gender\", palette=\"Set2\", col_wrap=2)\n",
    "g.map(plt.hist, 'Age', bins=bins, ec=\"k\")\n",
    "\n",
    "g.axes[-1].legend()\n",
    "plt.show()"
   ]
  },
  {
   "cell_type": "code",
   "execution_count": 101,
   "metadata": {},
   "outputs": [],
   "source": [
    "dfSupportFemale = dfFemale.loc[(dfFemale[\"Age\"] > 14) & (dfFemale[\"Age\"] < 17) ]"
   ]
  },
  {
   "cell_type": "code",
   "execution_count": 105,
   "metadata": {},
   "outputs": [
    {
     "data": {
      "text/plain": [
       "<matplotlib.axes._subplots.AxesSubplot at 0x7f998c0145b0>"
      ]
     },
     "execution_count": 105,
     "metadata": {},
     "output_type": "execute_result"
    },
    {
     "data": {
      "image/png": "[encoded data removed]",
      "text/plain": [
       "<Figure size 432x288 with 1 Axes>"
      ]
     },
     "metadata": {
      "needs_background": "light"
     },
     "output_type": "display_data"
    }
   ],
   "source": [
    "sns.lineplot(x=\"GAD Score\",y=\"MSSS Score\", data= dfSupportFemale)"
   ]
  },
  {
   "cell_type": "code",
   "execution_count": 106,
   "metadata": {},
   "outputs": [
    {
     "data": {
      "text/plain": [
       "(658, 39)"
      ]
     },
     "execution_count": 106,
     "metadata": {},
     "output_type": "execute_result"
    }
   ],
   "source": [
    "df.shape"
   ]
  },
  {
   "cell_type": "code",
   "execution_count": 109,
   "metadata": {},
   "outputs": [
    {
     "data": {
      "text/plain": [
       "ParticipantID        object\n",
       "PHQ1                  int64\n",
       "PHQ2                  int64\n",
       "PHQ3                  int64\n",
       "PHQ4                  int64\n",
       "PHQ5                  int64\n",
       "PHQ6                  int64\n",
       "PHQ7                  int64\n",
       "PHQ8                  int64\n",
       "GAD1                  int64\n",
       "GAD2                  int64\n",
       "GAD3                  int64\n",
       "GAD4                  int64\n",
       "GAD5                  int64\n",
       "GAD6                  int64\n",
       "GAD7                  int64\n",
       "MSSS1                 int64\n",
       "MSSS2                 int64\n",
       "MSSS3                 int64\n",
       "MSSS4                 int64\n",
       "MSSS5                 int64\n",
       "MSSS6                 int64\n",
       "MSSS7                 int64\n",
       "MSSS8                 int64\n",
       "MSSS9                 int64\n",
       "MSSS10                int64\n",
       "MSSS11                int64\n",
       "MSSS12                int64\n",
       "Tribe                object\n",
       "Gender               object\n",
       "School               object\n",
       "Age                 float64\n",
       "School_Resources     object\n",
       "PHQ Score             int64\n",
       "GAD Score             int64\n",
       "MSSS Score            int64\n",
       "depression level     object\n",
       "support level        object\n",
       "anxiety level        object\n",
       "dtype: object"
      ]
     },
     "execution_count": 109,
     "metadata": {},
     "output_type": "execute_result"
    }
   ],
   "source": [
    "df.dtypes"
   ]
  },
  {
   "cell_type": "markdown",
   "metadata": {},
   "source": [
    "# Grouping Depression Level According to School"
   ]
  },
  {
   "cell_type": "code",
   "execution_count": 25,
   "metadata": {},
   "outputs": [],
   "source": [
    "dfGrouped = df.groupby(\"School\")['depression level'].count()"
   ]
  },
  {
   "cell_type": "code",
   "execution_count": 26,
   "metadata": {},
   "outputs": [
    {
     "data": {
      "text/plain": [
       "School\n",
       "AGHS       140\n",
       "AHS        107\n",
       "Elite       70\n",
       "Olympic    174\n",
       "Starays     69\n",
       "Name: depression level, dtype: int64"
      ]
     },
     "execution_count": 26,
     "metadata": {},
     "output_type": "execute_result"
    }
   ],
   "source": [
    "dfGrouped.head()"
   ]
  },
  {
   "cell_type": "code",
   "execution_count": 27,
   "metadata": {},
   "outputs": [
    {
     "data": {
      "text/plain": [
       "<matplotlib.axes._subplots.AxesSubplot at 0x7f9984b31fa0>"
      ]
     },
     "execution_count": 27,
     "metadata": {},
     "output_type": "execute_result"
    },
    {
     "data": {
      "image/png": "[encoded data removed]",
      "text/plain": [
       "<Figure size 432x288 with 1 Axes>"
      ]
     },
     "metadata": {
      "needs_background": "light"
     },
     "output_type": "display_data"
    }
   ],
   "source": [
    "dfGrouped.plot(kind ='bar')"
   ]
  },
  {
   "cell_type": "code",
   "execution_count": 23,
   "metadata": {},
   "outputs": [
    {
     "data": {
      "text/plain": [
       "Index(['ParticipantID', 'PHQ1', 'PHQ2', 'PHQ3', 'PHQ4', 'PHQ5', 'PHQ6', 'PHQ7',\n",
       "       'PHQ8', 'GAD1', 'GAD2', 'GAD3', 'GAD4', 'GAD5', 'GAD6', 'GAD7', 'MSSS1',\n",
       "       'MSSS2', 'MSSS3', 'MSSS4', 'MSSS5', 'MSSS6', 'MSSS7', 'MSSS8', 'MSSS9',\n",
       "       'MSSS10', 'MSSS11', 'MSSS12', 'Tribe', 'Gender', 'School', 'Age',\n",
       "       'School_Resources', 'PHQ Score', 'GAD Score', 'MSSS Score',\n",
       "       'depression level', 'anxiety level', 'support level'],\n",
       "      dtype='object')"
      ]
     },
     "execution_count": 23,
     "metadata": {},
     "output_type": "execute_result"
    }
   ],
   "source": [
    "df.columns"
   ]
  },
  {
   "cell_type": "markdown",
   "metadata": {},
   "source": [
    "# Grouping Anxiety Level According to School\n"
   ]
  },
  {
   "cell_type": "code",
   "execution_count": 46,
   "metadata": {},
   "outputs": [],
   "source": [
    "dfAnxietyGrouped = df.groupby(\"School\")['depression level'].count()"
   ]
  },
  {
   "cell_type": "code",
   "execution_count": 47,
   "metadata": {},
   "outputs": [
    {
     "data": {
      "text/plain": [
       "<matplotlib.axes._subplots.AxesSubplot at 0x7f99891452e0>"
      ]
     },
     "execution_count": 47,
     "metadata": {},
     "output_type": "execute_result"
    },
    {
     "data": {
      "image/png": "[encoded data removed]",
      "text/plain": [
       "<Figure size 432x288 with 1 Axes>"
      ]
     },
     "metadata": {
      "needs_background": "light"
     },
     "output_type": "display_data"
    }
   ],
   "source": [
    "dfAnxietyGrouped.plot(kind ='bar')"
   ]
  },
  {
   "cell_type": "markdown",
   "metadata": {},
   "source": [
    "# Grouping Support Level According to School\n"
   ]
  },
  {
   "cell_type": "code",
   "execution_count": 48,
   "metadata": {},
   "outputs": [],
   "source": [
    "dfSupportGrouped = df.groupby(\"School\")['support level'].count()"
   ]
  },
  {
   "cell_type": "code",
   "execution_count": 49,
   "metadata": {},
   "outputs": [
    {
     "data": {
      "text/plain": [
       "<matplotlib.axes._subplots.AxesSubplot at 0x7f998531dd30>"
      ]
     },
     "execution_count": 49,
     "metadata": {},
     "output_type": "execute_result"
    },
    {
     "data": {
      "image/png": "[encoded data removed]",
      "text/plain": [
       "<Figure size 432x288 with 1 Axes>"
      ]
     },
     "metadata": {
      "needs_background": "light"
     },
     "output_type": "display_data"
    }
   ],
   "source": [
    "dfSupportGrouped.plot(kind ='bar')"
   ]
  },
  {
   "cell_type": "markdown",
   "metadata": {},
   "source": [
    "# Grouping Depression Level According to School Resource"
   ]
  },
  {
   "cell_type": "code",
   "execution_count": 30,
   "metadata": {},
   "outputs": [],
   "source": [
    "dfResourceGrouped = df.groupby(\"School_Resources\")['depression level'].count()"
   ]
  },
  {
   "cell_type": "code",
   "execution_count": 31,
   "metadata": {},
   "outputs": [
    {
     "data": {
      "text/plain": [
       "<matplotlib.axes._subplots.AxesSubplot at 0x7f9984d07df0>"
      ]
     },
     "execution_count": 31,
     "metadata": {},
     "output_type": "execute_result"
    },
    {
     "data": {
      "image/png": "[encoded data removed]",
      "text/plain": [
       "<Figure size 432x288 with 1 Axes>"
      ]
     },
     "metadata": {
      "needs_background": "light"
     },
     "output_type": "display_data"
    }
   ],
   "source": [
    "dfResourceGrouped.plot(kind ='bar')"
   ]
  },
  {
   "cell_type": "markdown",
   "metadata": {},
   "source": [
    "# Grouping Anxiety Level According to School Resource"
   ]
  },
  {
   "cell_type": "code",
   "execution_count": 55,
   "metadata": {},
   "outputs": [],
   "source": [
    "dfAnxietyResourceGrouped = df.groupby(\"School_Resources\")['anxiety level'].count()"
   ]
  },
  {
   "cell_type": "code",
   "execution_count": 56,
   "metadata": {},
   "outputs": [
    {
     "data": {
      "text/plain": [
       "<matplotlib.axes._subplots.AxesSubplot at 0x7f998a4ecbe0>"
      ]
     },
     "execution_count": 56,
     "metadata": {},
     "output_type": "execute_result"
    },
    {
     "data": {
      "image/png": "[encoded data removed]",
      "text/plain": [
       "<Figure size 432x288 with 1 Axes>"
      ]
     },
     "metadata": {
      "needs_background": "light"
     },
     "output_type": "display_data"
    }
   ],
   "source": [
    "dfAnxietyResourceGrouped.plot(kind ='bar')"
   ]
  },
  {
   "cell_type": "code",
   "execution_count": 51,
   "metadata": {},
   "outputs": [
    {
     "data": {
      "text/plain": [
       "Olympic    212\n",
       "AGHS       157\n",
       "AHS        122\n",
       "Elite       87\n",
       "Starays     80\n",
       "Name: School, dtype: int64"
      ]
     },
     "execution_count": 51,
     "metadata": {},
     "output_type": "execute_result"
    }
   ],
   "source": [
    "df[\"School\"].value_counts()"
   ]
  },
  {
   "cell_type": "markdown",
   "metadata": {},
   "source": [
    "# Grouping Depression Level According to Tribe"
   ]
  },
  {
   "cell_type": "code",
   "execution_count": 32,
   "metadata": {},
   "outputs": [],
   "source": [
    "dfTribeGrouped = df.groupby(\"Tribe\")['depression level'].count()"
   ]
  },
  {
   "cell_type": "code",
   "execution_count": 33,
   "metadata": {},
   "outputs": [
    {
     "data": {
      "text/plain": [
       "<matplotlib.axes._subplots.AxesSubplot at 0x7f9984e9af40>"
      ]
     },
     "execution_count": 33,
     "metadata": {},
     "output_type": "execute_result"
    },
    {
     "data": {
      "image/png": "[encoded data removed]",
      "text/plain": [
       "<Figure size 432x288 with 1 Axes>"
      ]
     },
     "metadata": {
      "needs_background": "light"
     },
     "output_type": "display_data"
    }
   ],
   "source": [
    "dfTribeGrouped.plot(kind ='bar')"
   ]
  },
  {
   "cell_type": "code",
   "execution_count": 34,
   "metadata": {},
   "outputs": [
    {
     "data": {
      "text/plain": [
       "Index(['ParticipantID', 'PHQ1', 'PHQ2', 'PHQ3', 'PHQ4', 'PHQ5', 'PHQ6', 'PHQ7',\n",
       "       'PHQ8', 'GAD1', 'GAD2', 'GAD3', 'GAD4', 'GAD5', 'GAD6', 'GAD7', 'MSSS1',\n",
       "       'MSSS2', 'MSSS3', 'MSSS4', 'MSSS5', 'MSSS6', 'MSSS7', 'MSSS8', 'MSSS9',\n",
       "       'MSSS10', 'MSSS11', 'MSSS12', 'Tribe', 'Gender', 'School', 'Age',\n",
       "       'School_Resources', 'PHQ Score', 'GAD Score', 'MSSS Score',\n",
       "       'depression level', 'anxiety level', 'support level'],\n",
       "      dtype='object')"
      ]
     },
     "execution_count": 34,
     "metadata": {},
     "output_type": "execute_result"
    }
   ],
   "source": [
    "df.columns"
   ]
  },
  {
   "cell_type": "markdown",
   "metadata": {},
   "source": [
    "# Exploring Depression Level in Olympic School"
   ]
  },
  {
   "cell_type": "code",
   "execution_count": 35,
   "metadata": {},
   "outputs": [],
   "source": [
    "dfOlympic = df.loc[df[\"School\"] == 'Olympic']"
   ]
  },
  {
   "cell_type": "code",
   "execution_count": 36,
   "metadata": {},
   "outputs": [
    {
     "data": {
      "text/html": [
       "<div>\n",
       "<style scoped>\n",
       "    .dataframe tbody tr th:only-of-type {\n",
       "        vertical-align: middle;\n",
       "    }\n",
       "\n",
       "    .dataframe tbody tr th {\n",
       "        vertical-align: top;\n",
       "    }\n",
       "\n",
       "    .dataframe thead th {\n",
       "        text-align: right;\n",
       "    }\n",
       "</style>\n",
       "<table border=\"1\" class=\"dataframe\">\n",
       "  <thead>\n",
       "    <tr style=\"text-align: right;\">\n",
       "      <th></th>\n",
       "      <th>ParticipantID</th>\n",
       "      <th>PHQ1</th>\n",
       "      <th>PHQ2</th>\n",
       "      <th>PHQ3</th>\n",
       "      <th>PHQ4</th>\n",
       "      <th>PHQ5</th>\n",
       "      <th>PHQ6</th>\n",
       "      <th>PHQ7</th>\n",
       "      <th>PHQ8</th>\n",
       "      <th>GAD1</th>\n",
       "      <th>...</th>\n",
       "      <th>Gender</th>\n",
       "      <th>School</th>\n",
       "      <th>Age</th>\n",
       "      <th>School_Resources</th>\n",
       "      <th>PHQ Score</th>\n",
       "      <th>GAD Score</th>\n",
       "      <th>MSSS Score</th>\n",
       "      <th>depression level</th>\n",
       "      <th>anxiety level</th>\n",
       "      <th>support level</th>\n",
       "    </tr>\n",
       "  </thead>\n",
       "  <tbody>\n",
       "    <tr>\n",
       "      <th>446</th>\n",
       "      <td>OLY_001</td>\n",
       "      <td>3</td>\n",
       "      <td>1</td>\n",
       "      <td>3</td>\n",
       "      <td>0</td>\n",
       "      <td>2</td>\n",
       "      <td>1</td>\n",
       "      <td>3</td>\n",
       "      <td>1</td>\n",
       "      <td>0</td>\n",
       "      <td>...</td>\n",
       "      <td>F</td>\n",
       "      <td>Olympic</td>\n",
       "      <td>18.0</td>\n",
       "      <td>Medium</td>\n",
       "      <td>14</td>\n",
       "      <td>4</td>\n",
       "      <td>63</td>\n",
       "      <td>Moderately Severe</td>\n",
       "      <td>Moderately Severe</td>\n",
       "      <td>Strong Support</td>\n",
       "    </tr>\n",
       "    <tr>\n",
       "      <th>447</th>\n",
       "      <td>OLY_002</td>\n",
       "      <td>3</td>\n",
       "      <td>3</td>\n",
       "      <td>3</td>\n",
       "      <td>3</td>\n",
       "      <td>0</td>\n",
       "      <td>3</td>\n",
       "      <td>3</td>\n",
       "      <td>0</td>\n",
       "      <td>0</td>\n",
       "      <td>...</td>\n",
       "      <td>F</td>\n",
       "      <td>Olympic</td>\n",
       "      <td>16.0</td>\n",
       "      <td>Medium</td>\n",
       "      <td>18</td>\n",
       "      <td>15</td>\n",
       "      <td>33</td>\n",
       "      <td>Severe</td>\n",
       "      <td>NaN</td>\n",
       "      <td>Moderate Support</td>\n",
       "    </tr>\n",
       "    <tr>\n",
       "      <th>448</th>\n",
       "      <td>OLY_003</td>\n",
       "      <td>2</td>\n",
       "      <td>3</td>\n",
       "      <td>3</td>\n",
       "      <td>2</td>\n",
       "      <td>3</td>\n",
       "      <td>3</td>\n",
       "      <td>3</td>\n",
       "      <td>1</td>\n",
       "      <td>3</td>\n",
       "      <td>...</td>\n",
       "      <td>F</td>\n",
       "      <td>Olympic</td>\n",
       "      <td>17.0</td>\n",
       "      <td>Medium</td>\n",
       "      <td>20</td>\n",
       "      <td>9</td>\n",
       "      <td>62</td>\n",
       "      <td>NaN</td>\n",
       "      <td>NaN</td>\n",
       "      <td>Strong Support</td>\n",
       "    </tr>\n",
       "    <tr>\n",
       "      <th>449</th>\n",
       "      <td>OLY_004</td>\n",
       "      <td>1</td>\n",
       "      <td>2</td>\n",
       "      <td>0</td>\n",
       "      <td>3</td>\n",
       "      <td>1</td>\n",
       "      <td>0</td>\n",
       "      <td>2</td>\n",
       "      <td>1</td>\n",
       "      <td>3</td>\n",
       "      <td>...</td>\n",
       "      <td>F</td>\n",
       "      <td>Olympic</td>\n",
       "      <td>15.0</td>\n",
       "      <td>Medium</td>\n",
       "      <td>10</td>\n",
       "      <td>12</td>\n",
       "      <td>78</td>\n",
       "      <td>NaN</td>\n",
       "      <td>Moderate</td>\n",
       "      <td>Strong Support</td>\n",
       "    </tr>\n",
       "    <tr>\n",
       "      <th>450</th>\n",
       "      <td>OLY_005</td>\n",
       "      <td>1</td>\n",
       "      <td>1</td>\n",
       "      <td>0</td>\n",
       "      <td>1</td>\n",
       "      <td>0</td>\n",
       "      <td>1</td>\n",
       "      <td>1</td>\n",
       "      <td>0</td>\n",
       "      <td>0</td>\n",
       "      <td>...</td>\n",
       "      <td>F</td>\n",
       "      <td>Olympic</td>\n",
       "      <td>16.0</td>\n",
       "      <td>Medium</td>\n",
       "      <td>5</td>\n",
       "      <td>7</td>\n",
       "      <td>64</td>\n",
       "      <td>Mild</td>\n",
       "      <td>Mild</td>\n",
       "      <td>Strong Support</td>\n",
       "    </tr>\n",
       "  </tbody>\n",
       "</table>\n",
       "<p>5 rows × 39 columns</p>\n",
       "</div>"
      ],
      "text/plain": [
       "    ParticipantID  PHQ1  PHQ2  PHQ3  PHQ4  PHQ5  PHQ6  PHQ7  PHQ8  GAD1  ...  \\\n",
       "446       OLY_001     3     1     3     0     2     1     3     1     0  ...   \n",
       "447       OLY_002     3     3     3     3     0     3     3     0     0  ...   \n",
       "448       OLY_003     2     3     3     2     3     3     3     1     3  ...   \n",
       "449       OLY_004     1     2     0     3     1     0     2     1     3  ...   \n",
       "450       OLY_005     1     1     0     1     0     1     1     0     0  ...   \n",
       "\n",
       "     Gender   School   Age  School_Resources  PHQ Score  GAD Score  \\\n",
       "446       F  Olympic  18.0            Medium         14          4   \n",
       "447       F  Olympic  16.0            Medium         18         15   \n",
       "448       F  Olympic  17.0            Medium         20          9   \n",
       "449       F  Olympic  15.0            Medium         10         12   \n",
       "450       F  Olympic  16.0            Medium          5          7   \n",
       "\n",
       "     MSSS Score   depression level      anxiety level     support level  \n",
       "446          63  Moderately Severe  Moderately Severe    Strong Support  \n",
       "447          33             Severe                NaN  Moderate Support  \n",
       "448          62                NaN                NaN    Strong Support  \n",
       "449          78                NaN           Moderate    Strong Support  \n",
       "450          64               Mild               Mild    Strong Support  \n",
       "\n",
       "[5 rows x 39 columns]"
      ]
     },
     "execution_count": 36,
     "metadata": {},
     "output_type": "execute_result"
    }
   ],
   "source": [
    "dfOlympic.head()"
   ]
  },
  {
   "cell_type": "code",
   "execution_count": 37,
   "metadata": {},
   "outputs": [
    {
     "data": {
      "text/plain": [
       "F    114\n",
       "M     98\n",
       "Name: Gender, dtype: int64"
      ]
     },
     "execution_count": 37,
     "metadata": {},
     "output_type": "execute_result"
    }
   ],
   "source": [
    "dfOlympic[\"Gender\"].value_counts()"
   ]
  },
  {
   "cell_type": "code",
   "execution_count": 41,
   "metadata": {},
   "outputs": [],
   "source": [
    "dfOlympicGrouped = dfOlympic.groupby(\"Tribe\")['depression level'].count()"
   ]
  },
  {
   "cell_type": "code",
   "execution_count": 42,
   "metadata": {},
   "outputs": [
    {
     "data": {
      "text/plain": [
       "<matplotlib.axes._subplots.AxesSubplot at 0x7f9988aab820>"
      ]
     },
     "execution_count": 42,
     "metadata": {},
     "output_type": "execute_result"
    },
    {
     "data": {
      "image/png": "[encoded data removed]",
      "text/plain": [
       "<Figure size 432x288 with 1 Axes>"
      ]
     },
     "metadata": {
      "needs_background": "light"
     },
     "output_type": "display_data"
    }
   ],
   "source": [
    "dfOlympicGrouped.plot(kind ='bar')"
   ]
  },
  {
   "cell_type": "markdown",
   "metadata": {},
   "source": [
    "It appears that the reason for high levels of depression in a not so 'well to do' school such as Olympic is because of the high number of minority tribes. "
   ]
  },
  {
   "cell_type": "markdown",
   "metadata": {},
   "source": [
    "# Exploring Depression Level in AGHS School"
   ]
  },
  {
   "cell_type": "code",
   "execution_count": 60,
   "metadata": {},
   "outputs": [],
   "source": [
    "dfAGHS = df.loc[df[\"School\"] == 'AGHS']"
   ]
  },
  {
   "cell_type": "code",
   "execution_count": 62,
   "metadata": {},
   "outputs": [
    {
     "data": {
      "text/plain": [
       "Majority    105\n",
       "Minority     52\n",
       "Name: Tribe, dtype: int64"
      ]
     },
     "execution_count": 62,
     "metadata": {},
     "output_type": "execute_result"
    }
   ],
   "source": [
    "dfAGHS[\"Tribe\"].value_counts()"
   ]
  },
  {
   "cell_type": "code",
   "execution_count": 65,
   "metadata": {},
   "outputs": [],
   "source": [
    "dfAGHSGrouped = dfAGHS.groupby(\"Age\")['depression level'].count()"
   ]
  },
  {
   "cell_type": "code",
   "execution_count": 66,
   "metadata": {},
   "outputs": [
    {
     "data": {
      "text/plain": [
       "<matplotlib.axes._subplots.AxesSubplot at 0x7f998a5eec40>"
      ]
     },
     "execution_count": 66,
     "metadata": {},
     "output_type": "execute_result"
    },
    {
     "data": {
      "image/png": "[encoded data removed]",
      "text/plain": [
       "<Figure size 432x288 with 1 Axes>"
      ]
     },
     "metadata": {
      "needs_background": "light"
     },
     "output_type": "display_data"
    }
   ],
   "source": [
    "dfAGHSGrouped.plot(kind ='bar')"
   ]
  },
  {
   "cell_type": "code",
   "execution_count": null,
   "metadata": {},
   "outputs": [],
   "source": []
  }
 ],
 "metadata": {
  "kernelspec": {
   "display_name": "Python 3",
   "language": "python",
   "name": "python3"
  },
  "language_info": {
   "codemirror_mode": {
    "name": "ipython",
    "version": 3
   },
   "file_extension": ".py",
   "mimetype": "text/x-python",
   "name": "python",
   "nbconvert_exporter": "python",
   "pygments_lexer": "ipython3",
   "version": "3.8.3"
  }
 },
 "nbformat": 4,
 "nbformat_minor": 4
}
